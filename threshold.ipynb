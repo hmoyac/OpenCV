{
 "cells": [
  {
   "metadata": {},
   "cell_type": "markdown",
   "source": [
    "Image Thresholding in OpenCV\n",
    "\n",
    "    Picture of Satya Mallick Satya Mallick\n",
    "    February 24, 2015\n",
    "\n",
    "<center><img src=\"./thresholding_image/thresholding_feature_image.gif\"></center>\n",
    "\n",
    "Carefully observe the animation below in Figure 1. How many numbers do you see? Most of you will see several numbers. But there is more to the image than meets the eye.\n",
    "Input image to be used for image thresholding in OpenCV.\n",
    "\n",
    "<center><img src=\"./thresholding_image/threshold.gif\"></center>\n",
    "\n",
    "As the image cycles through the animation, you will see the thresholded version of the original image, where:\n",
    "\n",
    "    * All the numbers look completely white (i.e. they have a grayscale value of 255).\n",
    "    * You can also see the number ‘5’, which was present but invisible in the original image, simply because its grayscale value was 5.\n",
    "\n",
    "In fact, all the numbers in the original image have a grayscale value equal to the value of the number. So, ‘255’ is the brightest and ‘5’ the darkest. Recall that grayscale intensities range from pure black (0) to pure white (255).\n",
    "\n",
    "So, reading numbers in the thresholded image is much easier than reading numbers in the original image. Not surprisingly, even text-recognition algorithms find it easier to process a thresholded image over the original. Thresholding therefore has numerous applications in computer vision, and is often performed in the initial stages in  many processing pipelines. There are several types of thresholding algorithms. Let’s focus on  ‘global’ thresholding here.\n",
    "\n",
    "This post is a part of the series Getting Started with OpenCV which consists of the following posts:\n",
    "\n"
   ],
   "id": "3533492d883c4263"
  },
  {
   "metadata": {},
   "cell_type": "markdown",
   "source": [
    "    <a href=\"https://learnopencv.com/read-display-and-write-an-image-using-opencv/\">Read, Display, and Write an Image using OpenCV</a>\n",
    "    <a href=\"https://learnopencv.com/reading-and-writing-videos-using-opencv/\">Reading and Writing Videos using OpenCV</a>\n",
    "    <a href=\"https://learnopencv.com/image-resizing-with-opencv/\">Image Resizing using OpenCV</a>\n",
    "    <a href=\"https://learnopencv.com/cropping-an-image-using-opencv/\">Cropping an Image using OpenCV</a>\n",
    "    <a href=\"https://learnopencv.com/image-rotation-and-translation-using-opencv/\">Image Rotation and Translation using OpenCV</a>\n",
    "    <a href=\"https://learnopencv.com/annotating-images-using-opencv/\">Annotating Images Using OpenCV</a>\n",
    "    <a href=\"https://learnopencv.com/color-spaces-in-opencv-cpp-python/\">Color spaces in OpenCV</a>\n",
    "    <a href=\"https://learnopencv.com/image-filtering-using-convolution-in-opencv/\">Image Filtering Using Convolution in OpenCV</a>\n",
    "    <a href=\"\">Image Thresholding in OpenCV</a>\n",
    "    <a href=\"https://learnopencv.com/edge-detection-using-opencv/\">Edge Detection using OpenCV</a>\n",
    "    <a href=\"https://learnopencv.com/mouse-and-trackbar-in-opencv-gui/\">Mouse and Trackbar using OpenCV GUI</a>\n",
    "    <a href=\"https://learnopencv.com/contour-detection-using-opencv-python-c/\">Contour Detection using OpenCV</a>\n",
    "    <a href=\"https://learnopencv.com/deep-learning-with-opencvs-dnn-module-a-definitive-guide/\">Deep Learning with OpenCV DNN Module: A Definitive Guide</a>"
   ],
   "id": "a040c973a4ce7d9c"
  },
  {
   "metadata": {},
   "cell_type": "markdown",
   "source": [
    "Contents\n",
    "\n",
    "    Global Thresholding\n",
    "    Binary Thresholding\n",
    "    Inverse-Binary Thresholding\n",
    "    Truncate Thresholding\n",
    "    Threshold to Zero\n",
    "    Inverted Threshold to Zero\n",
    "\n",
    "Global Thresholding\n",
    "\n",
    "So, what is ‘global’ thresholding? When the thresholding rule is applied equally to every pixel in the image, and the threshold value is fixed, the operations are called global.\n",
    "\n",
    "Global thresholding algorithms take a source image (src) and a threshold value (thresh) as input, and produce an output image (dst), by comparing the pixel intensity at source pixel location (x,y) to the threshold. If src(x,y) > thresh, then dst(x,y) is assigned some value. Otherwise, dst(x,y) is assigned some other value.\n",
    "\n",
    "The simplest form of global thresholding is called Binary Thresholding.\n",
    "\n",
    "     * In addition to the source image (src) and the threshold value (thresh ), it takes another input parameter called the maximum value (maxValue).\n",
    "     * At each pixel location (x,y), the pixel intensity at that location is compared to  a threshold value,  thresh .\n",
    "\n",
    "If src(x,y) is greater than thresh, the thresholding operation sets the value of the destination image pixel dst(x,y) to the maxValue. Otherwise, it sets it to 0, as shown in the pseudo code below.\n",
    "\n",
    "# Simple threshold function pseudo code\n",
    "if src(x,y) > thresh\n",
    "  dst(x,y) = maxValue\n",
    "else\n",
    "  dst(x,y) = 0\n",
    "\n",
    "Thresholding algorithms vary, based on different threshold rules applied to src(x,y) to get dst(x,y). Here, we will examine five different threshold types available in OpenCV.\n",
    "Threshold Examples: Python and C++\n",
    "\n",
    "Let’s first look at the code that will demonstrate several thresholding rules. We will discuss each line in detail so that you understand it fully.\n",
    "Python:"
   ],
   "id": "a0375e461545fe27"
  },
  {
   "metadata": {},
   "cell_type": "code",
   "execution_count": null,
   "source": [
    "# import opencv\n",
    "import cv2\n",
    "\n",
    "# Read image\n",
    "src = cv2.imread(\"threshold.png\", cv2.IMREAD_GRAYSCALE);\n",
    "\n",
    "# Basic threhold example\n",
    "th, dst = cv2.threshold(src, 0, 255, cv2.THRESH_BINARY);\n",
    "cv2.imwrite(\"opencv-threshold-example.jpg\", dst);\n",
    "\n",
    "# Thresholding with maxValue set to 128\n",
    "th, dst = cv2.threshold(src, 0, 128, cv2.THRESH_BINARY);\n",
    "cv2.imwrite(\"opencv-thresh-binary-maxval.jpg\", dst);\n",
    "\n",
    "# Thresholding with threshold value set 127\n",
    "th, dst = cv2.threshold(src,127,255, cv2.THRESH_BINARY);\n",
    "cv2.imwrite(\"opencv-thresh-binary.jpg\", dst);\n",
    "\n",
    "# Thresholding using THRESH_BINARY_INV\n",
    "th, dst = cv2.threshold(src,127,255, cv2.THRESH_BINARY_INV);\n",
    "cv2.imwrite(\"opencv-thresh-binary-inv.jpg\", dst);\n",
    "\n",
    "# Thresholding using THRESH_TRUNC\n",
    "th, dst = cv2.threshold(src,127,255, cv2.THRESH_TRUNC);\n",
    "cv2.imwrite(\"opencv-thresh-trunc.jpg\", dst);\n",
    "\n",
    "# Thresholding using THRESH_TOZERO\n",
    "th, dst = cv2.threshold(src,127,255, cv2.THRESH_TOZERO);\n",
    "cv2.imwrite(\"opencv-thresh-tozero.jpg\", dst);\n",
    "\n",
    "# Thresholding using THRESH_TOZERO_INV\n",
    "th, dst = cv2.threshold(src,127,255, cv2.THRESH_TOZERO_INV);\n",
    "cv2.imwrite(\"opencv-thresh-to-zero-inv.jpg\", dst);"
   ],
   "id": "b9ac16efb129fada",
   "outputs": []
  },
  {
   "metadata": {},
   "cell_type": "markdown",
   "source": "C++:",
   "id": "78ea393324533bf5"
  },
  {
   "metadata": {},
   "cell_type": "markdown",
   "source": [
    "#include \"opencv2/opencv.hpp\"\n",
    "\n",
    "using namespace cv;\n",
    "\n",
    "using namespace std;\n",
    "\n",
    "int main( int argc, char** argv )\n",
    "{\n",
    "\n",
    "  // Read image\n",
    "\n",
    "  Mat src = imread(\"threshold.png\", IMREAD_GRAYSCALE);\n",
    "  Mat dst;\n",
    "\n",
    "  // Basic threhold example\n",
    "\n",
    "  threshold(src,dst,0, 255, THRESH_BINARY);\n",
    "  imwrite(\"opencv-threshold-example.jpg\", dst);\n",
    "\n",
    "  // Thresholding with maxval set to 128\n",
    "\n",
    "  threshold(src, dst, 0, 128, THRESH_BINARY);\n",
    "  imwrite(\"opencv-thresh-binary-maxval.jpg\", dst);\n",
    "\n",
    "  // Thresholding with threshold value set 127\n",
    "\n",
    "  threshold(src,dst,127,255, THRESH_BINARY);\n",
    "  imwrite(\"opencv-thresh-binary.jpg\", dst);\n",
    "\n",
    "  // Thresholding using THRESH_BINARY_INV\n",
    "\n",
    "  threshold(src,dst,127,255, THRESH_BINARY_INV);\n",
    "  imwrite(\"opencv-thresh-binary-inv.jpg\", dst);\n",
    "\n",
    "  // Thresholding using THRESH_TRUNC\n",
    "\n",
    "  threshold(src,dst,127,255, THRESH_TRUNC);\n",
    "  imwrite(\"opencv-thresh-trunc.jpg\", dst);\n",
    "\n",
    "  // Thresholding using THRESH_TOZERO\n",
    "\n",
    "  threshold(src,dst,127,255, THRESH_TOZERO);\n",
    "  imwrite(\"opencv-thresh-tozero.jpg\", dst);\n",
    "\n",
    "  // Thresholding using THRESH_TOZERO_INV\n",
    "\n",
    "  threshold(src,dst,127,255, THRESH_TOZERO_INV);\n",
    "  imwrite(\"opencv-thresh-to-zero-inv.jpg\", dst);\n",
    "}"
   ],
   "id": "6382bae8cce15661"
  },
  {
   "metadata": {},
   "cell_type": "markdown",
   "source": [
    "Input Image\n",
    "\n",
    "In the following examples, we will use this image as input.  The input image contains numbers written with intensity (grayscale value) equal to the number itself. For example, the pixel intensity of the number ‘200’ is 200, and the intensity of the number ‘32’ is 32. No wonder ‘32’ appears much darker than ‘200’.\n",
    "\n",
    "<center><img src=\"./thresholding_image/input_image.jpg\"></center>\n",
    "Figure 2: Input Image. Click to open a high-resolution PNG in a different window\n",
    "\n",
    "In each example below, we will explain the thresholding rule via pseudo-code, and then provide the actual Python and C++ code, for the example as well as the thresholded output image."
   ],
   "id": "398872cff1987f7a"
  },
  {
   "metadata": {},
   "cell_type": "markdown",
   "source": [
    "1. Binary Thresholding ( THRESH_BINARY )\n",
    "\n",
    "This is the most common and simplest type of thresholding.\n",
    "\n",
    "Thresholding rule\n",
    "\n",
    "# Binary Threshold\n",
    "if src(x,y) > thresh\n",
    "  dst(x,y) = maxValue\n",
    "else\n",
    "  dst(x,y) = 0\n",
    "Python:"
   ],
   "id": "91ce6598552e44b1"
  },
  {
   "metadata": {},
   "cell_type": "code",
   "execution_count": null,
   "source": [
    "# import opencv\n",
    "import cv2\n",
    "\n",
    "# Read image\n",
    "src = cv2.imread(\"threshold.png\", cv2.IMREAD_GRAYSCALE)\n",
    "\n",
    "# Set threshold and maxValue\n",
    "thresh = 0\n",
    "maxValue = 255\n",
    "\n",
    "# Basic threshold example\n",
    "th, dst = cv2.threshold(src, thresh, maxValue, cv2.THRESH_BINARY);"
   ],
   "id": "833599a4423b6b13",
   "outputs": []
  },
  {
   "metadata": {},
   "cell_type": "markdown",
   "source": "C++:",
   "id": "531be175f6d85d76"
  },
  {
   "metadata": {},
   "cell_type": "markdown",
   "source": [
    "using namespace cv;\n",
    "\n",
    "// Read image\n",
    "\n",
    "Mat src = imread(\"threshold.png\", IMREAD_GRAYSCALE);\n",
    "Mat dst;\n",
    "\n",
    "// Set threshold and maxValue\n",
    "\n",
    "double thresh = 0;\n",
    "double maxValue = 255;\n",
    "\n",
    "// Binary Threshold\n",
    "\n",
    "threshold(src,dst, thresh, maxValue, THRESH_BINARY);"
   ],
   "id": "c8a8d931372d8dc1"
  },
  {
   "metadata": {},
   "cell_type": "markdown",
   "source": [
    "Result of Binary Threshold\n",
    "\n",
    "<center><img src=\"./thresholding_image/binary_thres.jpg\"></center>\n",
    "Figure 3 shows the result of applying binary thresholding to the input image, with thresh = 0 and maxValue = 255.\n",
    "Figure 3 : Binary Threshold ( thresh = 0 and maxValue = 255)\n",
    "\n",
    "Changing thresh to 127 removes all numbers less than or equal to 127.\n",
    "\n",
    "<center><img src=\"./thresholding_image/binary_thres_127.jpg\"></center>\n",
    "Figure 4 : Binary Threshold ( thresh = 127 and maxValue = 255)\n",
    "\n",
    "Changing maxValue to 128 sets the value of the thresholded regions to 128.\n",
    "\n",
    "<center><img src=\"./thresholding_image/binary_thres_128.jpg\"></center>\n",
    "Figure 5: Binary Threshold with maxValue set to 128"
   ],
   "id": "4824cbe5d8ff3bb6"
  },
  {
   "metadata": {},
   "cell_type": "markdown",
   "source": [
    "2. Inverse-Binary Thresholding ( THRESH_BINARY_INV )\n",
    "\n",
    "Inverse-Binary Thresholding is just the opposite of Binary Thresholding. The destination pixel is set to:\n",
    "\n",
    "     zero, if the corresponding source pixel is greater than the threshold\n",
    "     maxValue, if the source pixel is less than the threshold\n",
    "\n",
    "Thresholding rule\n",
    "# Inverse Binary Threshold\n",
    "if src(x,y) > thresh\n",
    "  dst(x,y) = 0\n",
    "else\n",
    "  dst(x,y) = maxValue\n",
    "Python:"
   ],
   "id": "36e19eb62285671"
  },
  {
   "metadata": {},
   "cell_type": "code",
   "execution_count": null,
   "source": "th, dst = cv2.threshold(src, thresh, maxValue, cv2.THRESH_BINARY_INV)",
   "id": "e753d7d8596b6476",
   "outputs": []
  },
  {
   "metadata": {},
   "cell_type": "markdown",
   "source": "C++:",
   "id": "9e68c59539eb96c3"
  },
  {
   "metadata": {},
   "cell_type": "code",
   "execution_count": null,
   "source": "threshold(src,dst, thresh, maxValue, THRESH_BINARY_INV);\n",
   "id": "2074e72946a64a86",
   "outputs": []
  },
  {
   "metadata": {},
   "cell_type": "markdown",
   "source": [
    "Result of Inverse-Binary Threshold\n",
    "\n",
    "Note how the result of Inverse-Binary Thresholding, shown in Figure 6, is exactly the inverse of Figure 4.\n",
    "\n",
    "<center><img src=\"./thresholding_image/inv_binary_thres.jpg\"></center>\n",
    "Figure 6 : Inverse-Binary Thresholding ( thresh = 127, maxValue = 0 )"
   ],
   "id": "b77613d5ecf909ce"
  },
  {
   "metadata": {},
   "cell_type": "markdown",
   "source": [
    "3. Truncate Thresholding ( THRESH_TRUNC )\n",
    "\n",
    "In this type of thresholding:\n",
    "\n",
    "    The destination pixel is set to the threshold (thresh), if the source pixel value is greater than the threshold.\n",
    "    Otherwise, it is set to the source pixel value\n",
    "    The maxValue is ignored\n",
    "\n",
    "Thresholding rule\n",
    "# Truncate Threshold\n",
    "if src(x,y) > thresh\n",
    "  dst(x,y) = thresh\n",
    "else\n",
    "  dst(x,y) = src(x,y)\n",
    "Python:"
   ],
   "id": "b2de1da3146e351b"
  },
  {
   "metadata": {},
   "cell_type": "code",
   "execution_count": null,
   "source": "th, dst = cv2.threshold(src, thresh, maxValue, cv2.THRESH_TRUNC)",
   "id": "cee22dcff42201c4",
   "outputs": []
  },
  {
   "metadata": {},
   "cell_type": "markdown",
   "source": "C++:",
   "id": "ee1a1d87df8f841"
  },
  {
   "metadata": {},
   "cell_type": "code",
   "execution_count": null,
   "source": "threshold(src,dst, thresh, maxValue, THRESH_TRUNC);",
   "id": "f993423bd285eabd",
   "outputs": []
  },
  {
   "metadata": {},
   "cell_type": "markdown",
   "source": [
    "Result of Truncate Thresholding\n",
    "\n",
    "<center><img src=\"./thresholding_image/inv_binary_thres.jpg\"></center>\n",
    "Figure 7 shows the result of applying Truncate Thresholding to the input image. Note that:\n",
    "\n",
    "    * All values above the threshold (127) are set to 127\n",
    "    * All values less than or equal to 127 are unchanged\n",
    "    * The  maxValue is ignored.\n",
    "\n",
    "<center><img src=\"./thresholding_image/truncate_thres.jpg\"></center>\n",
    "Figure 7 : Truncate Thresholding (thresh = 127)"
   ],
   "id": "dd30b7b0222f76c6"
  },
  {
   "metadata": {},
   "cell_type": "markdown",
   "source": [
    "4. Threshold to Zero ( THRESH_TOZERO )\n",
    "\n",
    "In this type of thresholding,\n",
    "\n",
    "    The destination pixel value is set to the pixel value of the corresponding source , if the source pixel value is greater than the threshold.\n",
    "    Otherwise, it is set to zero\n",
    "    The maxValue is ignored\n",
    "\n",
    "Thresholding rule\n",
    "# Threshold to Zero\n",
    "if src(x,y) > thresh\n",
    "  dst(x,y) = src(x,y)\n",
    "else\n",
    "  dst(x,y) = 0\n",
    "Python:"
   ],
   "id": "db54febf97b6c8c0"
  },
  {
   "metadata": {},
   "cell_type": "code",
   "execution_count": null,
   "source": "th, dst = cv2.threshold(src, thresh, maxValue, cv2.THRESH_TOZERO)",
   "id": "8514767ba0399b99",
   "outputs": []
  },
  {
   "metadata": {},
   "cell_type": "markdown",
   "source": "C++:",
   "id": "dba75899d2729ff4"
  },
  {
   "metadata": {},
   "cell_type": "code",
   "execution_count": null,
   "source": "threshold(src,dst, thresh, maxValue, THRESH_TOZERO);",
   "id": "c4975f95cc07941a",
   "outputs": []
  },
  {
   "metadata": {},
   "cell_type": "markdown",
   "source": [
    "Result of Threshold to Zero\n",
    "\n",
    "<center><img src=\"./thresholding_image/zero_thres.jpg\"></center>\n",
    "Figure 8: Threshold to Zero ( thresh = 127 )"
   ],
   "id": "ce327bfa5b6a0021"
  },
  {
   "metadata": {},
   "cell_type": "markdown",
   "source": [
    "5. Inverted Threshold to Zero ( THRESH_TOZERO_INV )\n",
    "\n",
    "In Inverted Threshold to Zero,\n",
    "\n",
    "    The destination pixel value is set to zero, if the source pixel value is greater than the threshold.\n",
    "    Otherwise, it is set to the source pixel value\n",
    "    The  maxValue is ignored\n",
    "\n",
    "Thresholding rule\n",
    "# Inverted Threshold to Zero\n",
    "if src(x,y) > thresh\n",
    "  dst(x,y) = 0\n",
    "else\n",
    "  dst(x,y) = src(x,y)\n",
    "Python:"
   ],
   "id": "766cf00bc47ffead"
  },
  {
   "metadata": {},
   "cell_type": "code",
   "execution_count": null,
   "source": "th, dst = cv2.threshold(src, thresh, maxValue, cv2.THRESH_TOZERO_INV)",
   "id": "c92b29276dce9e5d",
   "outputs": []
  },
  {
   "metadata": {},
   "cell_type": "markdown",
   "source": "C++:",
   "id": "14391b6ff7325619"
  },
  {
   "metadata": {},
   "cell_type": "code",
   "execution_count": null,
   "source": "threshold(src,dst, thresh, maxValue, THRESH_TOZERO_INV);",
   "id": "f024bc5071d8d71",
   "outputs": []
  },
  {
   "metadata": {},
   "cell_type": "markdown",
   "source": [
    "Result of Inverted Threshold to Zero\n",
    "\n",
    "Figure 9 shows the result of applying Inverted Threshold to Zero to the input image.\n",
    "\n",
    "    The numbers below the threshold retain their grayscale value\n",
    "    The numbers above the threshold are 0, except for the boundary\n",
    "\n",
    "Check out the artifacts on the boundary of some of the numbers! When the pixel values at the boundary transition from 0 to the value of the number, over very few pixels, some of the boundary pixels fall below the threshold. So, you get these artifacts.\n",
    "\n",
    "<center><img src=\"./thresholding_image/inv_zero_thres.jpg\"></center>\n",
    "Figure 9: Inverted Threshold to Zero ( thresh = 127 )"
   ],
   "id": "31d415626abd32c5"
  },
  {
   "metadata": {},
   "cell_type": "markdown",
   "source": [
    "Summary\n",
    "\n",
    "We discussed how thresholding can be used to isolate certain objects in an image. Several global-thresholding algorithms were demonstrated, and we provided code examples for each. You learned how even a single function in OpenCV can perform different types of thresholding, by simply passing the appropriate thresholding flag."
   ],
   "id": "436c5d9178f192bc"
  }
 ],
 "metadata": {
  "kernelspec": {
   "display_name": "Python 3",
   "language": "python",
   "name": "python3"
  },
  "language_info": {
   "codemirror_mode": {
    "name": "ipython",
    "version": 2
   },
   "file_extension": ".py",
   "mimetype": "text/x-python",
   "name": "python",
   "nbconvert_exporter": "python",
   "pygments_lexer": "ipython2",
   "version": "2.7.6"
  }
 },
 "nbformat": 4,
 "nbformat_minor": 5
}
